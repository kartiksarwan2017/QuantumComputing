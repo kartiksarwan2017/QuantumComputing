{
  "nbformat": 4,
  "nbformat_minor": 0,
  "metadata": {
    "colab": {
      "name": "QuantumComputing1.ipynb",
      "provenance": []
    },
    "kernelspec": {
      "name": "python3",
      "display_name": "Python 3"
    },
    "language_info": {
      "name": "python"
    }
  },
  "cells": [
    {
      "cell_type": "markdown",
      "metadata": {
        "id": "T3ycNcHxLt8O"
      },
      "source": [
        "**Building a Quantum Random Number Generator (QRNG)**\n",
        "Multiple methods are used to build QRNG's in industry and today we will build a primitive one using just one Hadamard Gate, i.e, the H Gate on a simulator.\n",
        "\n",
        "First, let's import what we require from qiskit:"
      ]
    },
    {
      "cell_type": "code",
      "metadata": {
        "colab": {
          "base_uri": "https://localhost:8080/"
        },
        "id": "RPshMnbjMHF9",
        "outputId": "3e65f4af-adda-4b95-a44c-0b2f3353e8a1"
      },
      "source": [
        "pip install qiskit\n"
      ],
      "execution_count": 3,
      "outputs": [
        {
          "output_type": "stream",
          "text": [
            "Collecting qiskit\n",
            "  Downloading https://files.pythonhosted.org/packages/ab/05/b9f82e569f1d4c39cd856c2fd04c716999b0e7a7a395a7fd2b1c48d40e68/qiskit-0.25.0.tar.gz\n",
            "Collecting qiskit-terra==0.17.0\n",
            "\u001b[?25l  Downloading https://files.pythonhosted.org/packages/26/50/39921a9aa428e3bb0ca1d646ad72e40d87e82699054b33344d9cf4e54a17/qiskit_terra-0.17.0-cp37-cp37m-manylinux2010_x86_64.whl (6.0MB)\n",
            "\u001b[K     |████████████████████████████████| 6.0MB 3.9MB/s \n",
            "\u001b[?25hCollecting qiskit-aer==0.8.0\n",
            "\u001b[?25l  Downloading https://files.pythonhosted.org/packages/ed/a0/93b1c1efb6e55185c9af446c2ed44b050a0675045eedae52d1f5c0247cf2/qiskit_aer-0.8.0-cp37-cp37m-manylinux2010_x86_64.whl (17.9MB)\n",
            "\u001b[K     |████████████████████████████████| 17.9MB 212kB/s \n",
            "\u001b[?25hCollecting qiskit-ibmq-provider==0.12.2\n",
            "\u001b[?25l  Downloading https://files.pythonhosted.org/packages/08/ac/69bb35892303c3a4a52eaaf7ea95431dd3f57963b580a011ee92693a7fcc/qiskit_ibmq_provider-0.12.2-py3-none-any.whl (198kB)\n",
            "\u001b[K     |████████████████████████████████| 204kB 47.9MB/s \n",
            "\u001b[?25hCollecting qiskit-ignis==0.6.0\n",
            "\u001b[?25l  Downloading https://files.pythonhosted.org/packages/54/be/a13c828e457e09d979667a61bddbd8c7246aafa94e2501b6a9154429cbea/qiskit_ignis-0.6.0-py3-none-any.whl (207kB)\n",
            "\u001b[K     |████████████████████████████████| 215kB 44.5MB/s \n",
            "\u001b[?25hCollecting qiskit-aqua==0.9.0\n",
            "\u001b[?25l  Downloading https://files.pythonhosted.org/packages/86/26/8d89e8ecb8d21f555496a0db80a5299dd663443a971e9fb4089efc7c5aef/qiskit_aqua-0.9.0-py3-none-any.whl (2.1MB)\n",
            "\u001b[K     |████████████████████████████████| 2.1MB 36.5MB/s \n",
            "\u001b[?25hCollecting retworkx>=0.8.0\n",
            "\u001b[?25l  Downloading https://files.pythonhosted.org/packages/1b/92/f007f8b9d88dcd5b90e363967e5d54431a68c5fe06d83400732e3b438084/retworkx-0.8.0-cp37-cp37m-manylinux2010_x86_64.whl (1.0MB)\n",
            "\u001b[K     |████████████████████████████████| 1.0MB 29.8MB/s \n",
            "\u001b[?25hRequirement already satisfied: numpy>=1.17 in /usr/local/lib/python3.7/dist-packages (from qiskit-terra==0.17.0->qiskit) (1.19.5)\n",
            "Requirement already satisfied: jsonschema>=2.6 in /usr/local/lib/python3.7/dist-packages (from qiskit-terra==0.17.0->qiskit) (2.6.0)\n",
            "Collecting ply>=3.10\n",
            "\u001b[?25l  Downloading https://files.pythonhosted.org/packages/a3/58/35da89ee790598a0700ea49b2a66594140f44dec458c07e8e3d4979137fc/ply-3.11-py2.py3-none-any.whl (49kB)\n",
            "\u001b[K     |████████████████████████████████| 51kB 4.6MB/s \n",
            "\u001b[?25hCollecting fastjsonschema>=2.10\n",
            "  Downloading https://files.pythonhosted.org/packages/89/1c/8be51fa42aadc1c1611a52b866e1a5a1032a504f24789cf140b4e6d7c940/fastjsonschema-2.15.0-py3-none-any.whl\n",
            "Collecting python-constraint>=1.4\n",
            "  Downloading https://files.pythonhosted.org/packages/37/8b/5f1bc2734ca611943e1d6733ee244238679f6410a10cd45ede55a61a8402/python-constraint-1.4.0.tar.bz2\n",
            "Requirement already satisfied: python-dateutil>=2.8.0 in /usr/local/lib/python3.7/dist-packages (from qiskit-terra==0.17.0->qiskit) (2.8.1)\n",
            "Requirement already satisfied: dill>=0.3 in /usr/local/lib/python3.7/dist-packages (from qiskit-terra==0.17.0->qiskit) (0.3.3)\n",
            "Requirement already satisfied: psutil>=5 in /usr/local/lib/python3.7/dist-packages (from qiskit-terra==0.17.0->qiskit) (5.4.8)\n",
            "Requirement already satisfied: scipy>=1.4 in /usr/local/lib/python3.7/dist-packages (from qiskit-terra==0.17.0->qiskit) (1.4.1)\n",
            "Requirement already satisfied: sympy>=1.3 in /usr/local/lib/python3.7/dist-packages (from qiskit-terra==0.17.0->qiskit) (1.7.1)\n",
            "Collecting pybind11>=2.6\n",
            "\u001b[?25l  Downloading https://files.pythonhosted.org/packages/8d/43/7339dbabbc2793718d59703aace4166f53c29ee1c202f6ff5bf8a26c4d91/pybind11-2.6.2-py2.py3-none-any.whl (191kB)\n",
            "\u001b[K     |████████████████████████████████| 194kB 49.8MB/s \n",
            "\u001b[?25hCollecting requests-ntlm>=1.1.0\n",
            "  Downloading https://files.pythonhosted.org/packages/03/4b/8b9a1afde8072c4d5710d9fa91433d504325821b038e00237dc8d6d833dc/requests_ntlm-1.1.0-py2.py3-none-any.whl\n",
            "Requirement already satisfied: nest-asyncio!=1.1.0,>=1.0.0 in /usr/local/lib/python3.7/dist-packages (from qiskit-ibmq-provider==0.12.2->qiskit) (1.5.1)\n",
            "Requirement already satisfied: requests>=2.19 in /usr/local/lib/python3.7/dist-packages (from qiskit-ibmq-provider==0.12.2->qiskit) (2.23.0)\n",
            "Requirement already satisfied: urllib3>=1.21.1 in /usr/local/lib/python3.7/dist-packages (from qiskit-ibmq-provider==0.12.2->qiskit) (1.24.3)\n",
            "Collecting websockets>=8\n",
            "\u001b[?25l  Downloading https://files.pythonhosted.org/packages/5a/0b/3ebc752392a368af14dd24ee041683416ac6d2463eead94b311b11e41c82/websockets-8.1-cp37-cp37m-manylinux2010_x86_64.whl (79kB)\n",
            "\u001b[K     |████████████████████████████████| 81kB 6.2MB/s \n",
            "\u001b[?25hRequirement already satisfied: setuptools>=40.1.0 in /usr/local/lib/python3.7/dist-packages (from qiskit-ignis==0.6.0->qiskit) (54.2.0)\n",
            "Requirement already satisfied: h5py<=3.1.0 in /usr/local/lib/python3.7/dist-packages (from qiskit-aqua==0.9.0->qiskit) (2.10.0)\n",
            "Collecting dlx<=1.0.4\n",
            "  Downloading https://files.pythonhosted.org/packages/54/c0/b8fb5bb727e983b6f5251433ef941b48f38c65bb0bd6ec509e9185bcd406/dlx-1.0.4.tar.gz\n",
            "Requirement already satisfied: fastdtw<=0.3.4 in /usr/local/lib/python3.7/dist-packages (from qiskit-aqua==0.9.0->qiskit) (0.3.4)\n",
            "Collecting docplex<=2.20.204; sys_platform != \"darwin\"\n",
            "\u001b[?25l  Downloading https://files.pythonhosted.org/packages/87/99/6f7c219b39fd58c84688ad0713eb932bfcf6be81fc74519e43ea9c915b56/docplex-2.20.204.tar.gz (611kB)\n",
            "\u001b[K     |████████████████████████████████| 614kB 45.8MB/s \n",
            "\u001b[?25hRequirement already satisfied: pandas<=1.2.3 in /usr/local/lib/python3.7/dist-packages (from qiskit-aqua==0.9.0->qiskit) (1.1.5)\n",
            "Collecting quandl<=3.6.0\n",
            "  Downloading https://files.pythonhosted.org/packages/c2/58/9f0e69d836045e3865d263e9ed49f42b23a58526fdabb30f74c430baee3f/Quandl-3.6.0-py2.py3-none-any.whl\n",
            "Collecting yfinance<=0.1.55\n",
            "  Downloading https://files.pythonhosted.org/packages/7a/e8/b9d7104d3a4bf39924799067592d9e59119fcfc900a425a12e80a3123ec8/yfinance-0.1.55.tar.gz\n",
            "Requirement already satisfied: scikit-learn<=0.24.1,>=0.20.0 in /usr/local/lib/python3.7/dist-packages (from qiskit-aqua==0.9.0->qiskit) (0.22.2.post1)\n",
            "Requirement already satisfied: six>=1.5 in /usr/local/lib/python3.7/dist-packages (from python-dateutil>=2.8.0->qiskit-terra==0.17.0->qiskit) (1.15.0)\n",
            "Requirement already satisfied: mpmath>=0.19 in /usr/local/lib/python3.7/dist-packages (from sympy>=1.3->qiskit-terra==0.17.0->qiskit) (1.2.1)\n",
            "Collecting cryptography>=1.3\n",
            "\u001b[?25l  Downloading https://files.pythonhosted.org/packages/b2/26/7af637e6a7e87258b963f1731c5982fb31cd507f0d90d91836e446955d02/cryptography-3.4.7-cp36-abi3-manylinux2014_x86_64.whl (3.2MB)\n",
            "\u001b[K     |████████████████████████████████| 3.2MB 37.7MB/s \n",
            "\u001b[?25hCollecting ntlm-auth>=1.0.2\n",
            "  Downloading https://files.pythonhosted.org/packages/ff/84/97c550164b54942b0e908c31ef09d9469f3ba4cd7332a671e2125732f63b/ntlm_auth-1.5.0-py2.py3-none-any.whl\n",
            "Requirement already satisfied: certifi>=2017.4.17 in /usr/local/lib/python3.7/dist-packages (from requests>=2.19->qiskit-ibmq-provider==0.12.2->qiskit) (2020.12.5)\n",
            "Requirement already satisfied: chardet<4,>=3.0.2 in /usr/local/lib/python3.7/dist-packages (from requests>=2.19->qiskit-ibmq-provider==0.12.2->qiskit) (3.0.4)\n",
            "Requirement already satisfied: idna<3,>=2.5 in /usr/local/lib/python3.7/dist-packages (from requests>=2.19->qiskit-ibmq-provider==0.12.2->qiskit) (2.10)\n",
            "Requirement already satisfied: pytz>=2017.2 in /usr/local/lib/python3.7/dist-packages (from pandas<=1.2.3->qiskit-aqua==0.9.0->qiskit) (2018.9)\n",
            "Requirement already satisfied: more-itertools in /usr/local/lib/python3.7/dist-packages (from quandl<=3.6.0->qiskit-aqua==0.9.0->qiskit) (8.7.0)\n",
            "Collecting inflection>=0.3.1\n",
            "  Downloading https://files.pythonhosted.org/packages/59/91/aa6bde563e0085a02a435aa99b49ef75b0a4b062635e606dab23ce18d720/inflection-0.5.1-py2.py3-none-any.whl\n",
            "Requirement already satisfied: multitasking>=0.0.7 in /usr/local/lib/python3.7/dist-packages (from yfinance<=0.1.55->qiskit-aqua==0.9.0->qiskit) (0.0.9)\n",
            "Collecting lxml>=4.5.1\n",
            "\u001b[?25l  Downloading https://files.pythonhosted.org/packages/cf/4d/6537313bf58fe22b508f08cf3eb86b29b6f9edf68e00454224539421073b/lxml-4.6.3-cp37-cp37m-manylinux1_x86_64.whl (5.5MB)\n",
            "\u001b[K     |████████████████████████████████| 5.5MB 48.5MB/s \n",
            "\u001b[?25hRequirement already satisfied: joblib>=0.11 in /usr/local/lib/python3.7/dist-packages (from scikit-learn<=0.24.1,>=0.20.0->qiskit-aqua==0.9.0->qiskit) (1.0.1)\n",
            "Requirement already satisfied: cffi>=1.12 in /usr/local/lib/python3.7/dist-packages (from cryptography>=1.3->requests-ntlm>=1.1.0->qiskit-ibmq-provider==0.12.2->qiskit) (1.14.5)\n",
            "Requirement already satisfied: pycparser in /usr/local/lib/python3.7/dist-packages (from cffi>=1.12->cryptography>=1.3->requests-ntlm>=1.1.0->qiskit-ibmq-provider==0.12.2->qiskit) (2.20)\n",
            "Building wheels for collected packages: qiskit, python-constraint, dlx, docplex, yfinance\n",
            "  Building wheel for qiskit (setup.py) ... \u001b[?25l\u001b[?25hdone\n",
            "  Created wheel for qiskit: filename=qiskit-0.25.0-cp37-none-any.whl size=3032 sha256=2e5f4c06149a9d8bdc95095e1783ad3cf9f9555286ede736b34520cea8f16999\n",
            "  Stored in directory: /root/.cache/pip/wheels/09/6e/f1/a7eaab6e3943d749f1b257f462f60fbc402b0c8e870b555169\n",
            "  Building wheel for python-constraint (setup.py) ... \u001b[?25l\u001b[?25hdone\n",
            "  Created wheel for python-constraint: filename=python_constraint-1.4.0-py2.py3-none-any.whl size=24079 sha256=4991b547e4706536bb5d5f03bce5edfcfab86371fadda435048467dc920149d1\n",
            "  Stored in directory: /root/.cache/pip/wheels/34/31/15/7b070b25d0a549d20ce2e9fe6d727471c2c61ef904720fd40c\n",
            "  Building wheel for dlx (setup.py) ... \u001b[?25l\u001b[?25hdone\n",
            "  Created wheel for dlx: filename=dlx-1.0.4-cp37-none-any.whl size=5712 sha256=fadc722cdd5b040684e186f1f346d64664f854288ef50743cf825e4256f0a390\n",
            "  Stored in directory: /root/.cache/pip/wheels/bb/ba/15/fdd0deb104df3254912998150ba9245668db06b00af5912d1a\n",
            "  Building wheel for docplex (setup.py) ... \u001b[?25l\u001b[?25hdone\n",
            "  Created wheel for docplex: filename=docplex-2.20.204-cp37-none-any.whl size=675362 sha256=4d712dbd078d8a21e3182de0d0a0439381bcc4e688a8a58b1d040b5364e7b437\n",
            "  Stored in directory: /root/.cache/pip/wheels/ae/2c/e2/a099ebb6fda8adeba9c5fc2e25659d195ad2f5c6cc5fb75fd4\n",
            "  Building wheel for yfinance (setup.py) ... \u001b[?25l\u001b[?25hdone\n",
            "  Created wheel for yfinance: filename=yfinance-0.1.55-py2.py3-none-any.whl size=22616 sha256=08a18a939adf426fa37c79c0f1e868dc57f84581f3c1a39f0848bffa55628369\n",
            "  Stored in directory: /root/.cache/pip/wheels/04/98/cc/2702a4242d60bdc14f48b4557c427ded1fe92aedf257d4565c\n",
            "Successfully built qiskit python-constraint dlx docplex yfinance\n",
            "Installing collected packages: retworkx, ply, fastjsonschema, python-constraint, qiskit-terra, pybind11, qiskit-aer, cryptography, ntlm-auth, requests-ntlm, websockets, qiskit-ibmq-provider, qiskit-ignis, dlx, docplex, inflection, quandl, lxml, yfinance, qiskit-aqua, qiskit\n",
            "  Found existing installation: lxml 4.2.6\n",
            "    Uninstalling lxml-4.2.6:\n",
            "      Successfully uninstalled lxml-4.2.6\n",
            "Successfully installed cryptography-3.4.7 dlx-1.0.4 docplex-2.20.204 fastjsonschema-2.15.0 inflection-0.5.1 lxml-4.6.3 ntlm-auth-1.5.0 ply-3.11 pybind11-2.6.2 python-constraint-1.4.0 qiskit-0.25.0 qiskit-aer-0.8.0 qiskit-aqua-0.9.0 qiskit-ibmq-provider-0.12.2 qiskit-ignis-0.6.0 qiskit-terra-0.17.0 quandl-3.6.0 requests-ntlm-1.1.0 retworkx-0.8.0 websockets-8.1 yfinance-0.1.55\n"
          ],
          "name": "stdout"
        }
      ]
    },
    {
      "cell_type": "code",
      "metadata": {
        "id": "PVk9HhUyLtfJ"
      },
      "source": [
        "#initialization\n",
        "import matplotlib.pyplot as plt\n",
        "%matplotlib inline\n",
        "import numpy as np\n",
        "\n",
        "# importing Qiskit\n",
        "from qiskit import IBMQ, BasicAer, Aer\n",
        "from qiskit.providers.ibmq import least_busy\n",
        "from qiskit import QuantumCircuit, ClassicalRegister, QuantumRegister, execute\n",
        "\n",
        "# import basic plot tools\n",
        "from qiskit.tools.visualization import plot_histogram"
      ],
      "execution_count": 4,
      "outputs": []
    },
    {
      "cell_type": "markdown",
      "metadata": {
        "id": "jNa0VxNRL5VK"
      },
      "source": [
        "You can ignore the next two lines of code. This will be required when you want to try the QRNG you build on a real device. We'll get to that later."
      ]
    },
    {
      "cell_type": "code",
      "metadata": {
        "id": "HnpS44nhMVRM"
      },
      "source": [
        "# IBMQ.save_account('YOUR_IBM_TOKEN') # you can find your account id on the IBm Quantum Experience website\n",
        "                                       # in your profile section "
      ],
      "execution_count": 5,
      "outputs": []
    },
    {
      "cell_type": "code",
      "metadata": {
        "id": "CGWNlJUZMYTe"
      },
      "source": [
        "# provider = IBMQ.load_account()"
      ],
      "execution_count": 6,
      "outputs": []
    },
    {
      "cell_type": "code",
      "metadata": {
        "colab": {
          "base_uri": "https://localhost:8080/",
          "height": 92
        },
        "id": "6WeujWsaMado",
        "outputId": "96b61cb7-ebff-4171-cd4a-8338ca1c63f7"
      },
      "source": [
        "q2 = QuantumRegister(1)\n",
        "c2 = ClassicalRegister(1)\n",
        "qc2 = QuantumCircuit(q2, c2)\n",
        "qc2.draw()"
      ],
      "execution_count": 7,
      "outputs": [
        {
          "output_type": "execute_result",
          "data": {
            "text/html": [
              "<pre style=\"word-wrap: normal;white-space: pre;background: #fff0;line-height: 1.1;font-family: &quot;Courier New&quot;,Courier,monospace\">      \n",
              "q0_0: \n",
              "      \n",
              "c0: 1/\n",
              "      </pre>"
            ],
            "text/plain": [
              "      \n",
              "q0_0: \n",
              "      \n",
              "c0: 1/\n",
              "      "
            ]
          },
          "metadata": {
            "tags": []
          },
          "execution_count": 7
        }
      ]
    },
    {
      "cell_type": "markdown",
      "metadata": {
        "id": "P-dxJKWSMiWJ"
      },
      "source": [
        "Now apply a hadamard gate to put the first qubit into a |+⟩ state. Where,\n",
        "             1+>=|0> + |1>\n",
        "                 ---------\n",
        "                    √2"
      ]
    },
    {
      "cell_type": "code",
      "metadata": {
        "colab": {
          "base_uri": "https://localhost:8080/",
          "height": 92
        },
        "id": "AVviln1uNCOI",
        "outputId": "ca245727-2d7c-49f6-bb23-41250b832c85"
      },
      "source": [
        "qc2.h(0)\n",
        "qc2.draw()"
      ],
      "execution_count": 8,
      "outputs": [
        {
          "output_type": "execute_result",
          "data": {
            "text/html": [
              "<pre style=\"word-wrap: normal;white-space: pre;background: #fff0;line-height: 1.1;font-family: &quot;Courier New&quot;,Courier,monospace\">      ┌───┐\n",
              "q0_0: ┤ H ├\n",
              "      └───┘\n",
              "c0: 1/═════\n",
              "           </pre>"
            ],
            "text/plain": [
              "      ┌───┐\n",
              "q0_0: ┤ H ├\n",
              "      └───┘\n",
              "c0: 1/═════\n",
              "           "
            ]
          },
          "metadata": {
            "tags": []
          },
          "execution_count": 8
        }
      ]
    },
    {
      "cell_type": "markdown",
      "metadata": {
        "id": "yWiVuljFNHG8"
      },
      "source": [
        "We only get results when we measure the qubit and then read that clasical data, which in our case is then store in our classical register c2."
      ]
    },
    {
      "cell_type": "code",
      "metadata": {
        "colab": {
          "base_uri": "https://localhost:8080/",
          "height": 92
        },
        "id": "QSQYvaxBNJb7",
        "outputId": "d84cd4e5-3431-43fa-f15c-0ddf51ec94a2"
      },
      "source": [
        "qc2.measure(q2[0], c2[0])\n",
        "qc2.draw()"
      ],
      "execution_count": 9,
      "outputs": [
        {
          "output_type": "execute_result",
          "data": {
            "text/html": [
              "<pre style=\"word-wrap: normal;white-space: pre;background: #fff0;line-height: 1.1;font-family: &quot;Courier New&quot;,Courier,monospace\">      ┌───┐┌─┐\n",
              "q0_0: ┤ H ├┤M├\n",
              "      └───┘└╥┘\n",
              "c0: 1/══════╩═\n",
              "            0 </pre>"
            ],
            "text/plain": [
              "      ┌───┐┌─┐\n",
              "q0_0: ┤ H ├┤M├\n",
              "      └───┘└╥┘\n",
              "c0: 1/══════╩═\n",
              "            0 "
            ]
          },
          "metadata": {
            "tags": []
          },
          "execution_count": 9
        }
      ]
    },
    {
      "cell_type": "code",
      "metadata": {
        "colab": {
          "base_uri": "https://localhost:8080/"
        },
        "id": "hmGUXymNNVM4",
        "outputId": "d2caa88c-27b4-4f5d-c02c-e66dbc6e354f"
      },
      "source": [
        "# running and getting results \n",
        "\n",
        "backend = Aer.get_backend('qasm_simulator')\n",
        "job = execute(qc2, backend, shots=100)\n",
        "# backend = provider.get_backend('ibmq_qasm_simulator')\n",
        "# job = execute(qc, backend=backend, shots=8000, seed_simulator=12345, backend_options={\"fusion_enable\":True})\n",
        "result = job.result()\n",
        "count = result.get_counts()\n",
        "print(count)"
      ],
      "execution_count": 18,
      "outputs": [
        {
          "output_type": "stream",
          "text": [
            "{'1': 46, '0': 54}\n"
          ],
          "name": "stdout"
        }
      ]
    },
    {
      "cell_type": "code",
      "metadata": {
        "colab": {
          "base_uri": "https://localhost:8080/",
          "height": 323
        },
        "id": "gl-aoqKAOi2l",
        "outputId": "d12bb29a-826e-4ef2-b7d7-c426c95c9b6d"
      },
      "source": [
        "plot_histogram(count)"
      ],
      "execution_count": 19,
      "outputs": [
        {
          "output_type": "execute_result",
          "data": {
            "image/png": "[encoded data removed]",
            "text/plain": [
              "<Figure size 504x360 with 1 Axes>"
            ]
          },
          "metadata": {
            "tags": []
          },
          "execution_count": 19
        }
      ]
    },
    {
      "cell_type": "markdown",
      "metadata": {
        "id": "yUSf5sQcNb8i"
      },
      "source": [
        "If we re-run the above cell we randomly get the value 0 and 1. We've created a random number generator!"
      ]
    },
    {
      "cell_type": "markdown",
      "metadata": {
        "id": "1Xg70kG3Npuv"
      },
      "source": [
        "**Grover's Algorithm for 4 qubits(ex: finding the entry 1010)**\n",
        "\n",
        "Building our circuit and equal superposition initialization\n",
        "Let's build our circuit with 7 qubits\n",
        "\n",
        "4 qubits for input\n",
        "1 qubit for storing the |-> state\n",
        "2 ancilla qubits (as will be explained bellow)\n",
        "And our answer will be stored in a classical register of size 4\n",
        "\n",
        "Further, we intialize our input in an equal superposition of all possible states"
      ]
    },
    {
      "cell_type": "code",
      "metadata": {
        "id": "wrb8Qwh0N1nv"
      },
      "source": [
        "q = QuantumRegister(7)\n",
        "c = ClassicalRegister(4)\n",
        "qc = QuantumCircuit(q, c)"
      ],
      "execution_count": 11,
      "outputs": []
    },
    {
      "cell_type": "code",
      "metadata": {
        "colab": {
          "base_uri": "https://localhost:8080/"
        },
        "id": "ot9Xw1xlQAVM",
        "outputId": "d9afc7f6-4c5a-4bb6-ce04-1f890c3c0d0f"
      },
      "source": [
        "# initialize in a superposition of all possible states \n",
        "qc.x(q[4])\n",
        "qc.h(q[0:5])\n",
        "qc.barrier(q)"
      ],
      "execution_count": 20,
      "outputs": [
        {
          "output_type": "execute_result",
          "data": {
            "text/plain": [
              "<qiskit.circuit.instructionset.InstructionSet at 0x7fb4cb05e3d0>"
            ]
          },
          "metadata": {
            "tags": []
          },
          "execution_count": 20
        }
      ]
    },
    {
      "cell_type": "code",
      "metadata": {
        "colab": {
          "base_uri": "https://localhost:8080/"
        },
        "id": "qjDDcdhPQGqW",
        "outputId": "b1043c44-1239-47d2-e738-c6167cdbef56"
      },
      "source": [
        "qc.barrier(q)\n",
        "\n",
        "# build oracle. ex: to find 1010 state\n",
        "qc.x(q[1])\n",
        "qc.x(q[3])\n",
        "qc.barrier(q)\n",
        "qc.mct([q[0], q[1], q[2], q[3]], q[4], q[5:7])    # control qubits, target qubit, ancilla qubits = number of control qubits - 2\n",
        "qc.barrier(q)\n",
        "qc.x(q[1])\n",
        "qc.x(q[3])\n",
        "\n",
        "qc.barrier(q)"
      ],
      "execution_count": 21,
      "outputs": [
        {
          "output_type": "execute_result",
          "data": {
            "text/plain": [
              "<qiskit.circuit.instructionset.InstructionSet at 0x7fb4cb06a7d0>"
            ]
          },
          "metadata": {
            "tags": []
          },
          "execution_count": 21
        }
      ]
    },
    {
      "cell_type": "markdown",
      "metadata": {
        "id": "x-R7wKv7QYY0"
      },
      "source": [
        "**Amplitude Amplification (Diffusion Operator)**\n",
        "this is equivalent to flip about the mean operation geometrically. Also known as the amplitude amplification step as we are increasing the amplitudes(probability) of the entries that we flipped(gave a - phase to) in the previou step while applying our oracle."
      ]
    },
    {
      "cell_type": "code",
      "metadata": {
        "colab": {
          "base_uri": "https://localhost:8080/"
        },
        "id": "g64wiiKsQZzw",
        "outputId": "fc26eee2-b6cd-414a-b342-7971cc0eeb6d"
      },
      "source": [
        "qc.barrier(q)\n",
        "qc.h(q[0:4])\n",
        "qc.barrier(q)\n",
        "qc.x(q[0:4])\n",
        "qc.barrier(q)\n",
        "qc.h(q[3])\n",
        "qc.barrier(q)\n",
        "qc.mct([q[0], q[1], q[2]], q[3], q[5:6])   \n",
        "qc.barrier(q)\n",
        "qc.h(q[3])\n",
        "qc.barrier(q)\n",
        "qc.x(q[0:4])\n",
        "qc.barrier(q)\n",
        "qc.h(q[0:4])\n",
        "qc.barrier(q)"
      ],
      "execution_count": 22,
      "outputs": [
        {
          "output_type": "execute_result",
          "data": {
            "text/plain": [
              "<qiskit.circuit.instructionset.InstructionSet at 0x7fb4cb00c590>"
            ]
          },
          "metadata": {
            "tags": []
          },
          "execution_count": 22
        }
      ]
    },
    {
      "cell_type": "code",
      "metadata": {
        "colab": {
          "base_uri": "https://localhost:8080/"
        },
        "id": "0dUCCrZ9Qd4K",
        "outputId": "acf3e809-42d2-4e99-9278-9d6d1a12e01b"
      },
      "source": [
        "qc.measure(q[0:4], c[0:4])"
      ],
      "execution_count": 23,
      "outputs": [
        {
          "output_type": "execute_result",
          "data": {
            "text/plain": [
              "<qiskit.circuit.instructionset.InstructionSet at 0x7fb4cb02ea90>"
            ]
          },
          "metadata": {
            "tags": []
          },
          "execution_count": 23
        }
      ]
    },
    {
      "cell_type": "code",
      "metadata": {
        "colab": {
          "base_uri": "https://localhost:8080/",
          "height": 527
        },
        "id": "WGhMeBA9QgGK",
        "outputId": "00700aaa-634f-46bb-8cd3-18cc857d90d6"
      },
      "source": [
        "qc.draw()\n",
        "\n",
        "# in the output drawing "
      ],
      "execution_count": 24,
      "outputs": [
        {
          "output_type": "execute_result",
          "data": {
            "text/html": [
              "<pre style=\"word-wrap: normal;white-space: pre;background: #fff0;line-height: 1.1;font-family: &quot;Courier New&quot;,Courier,monospace\">      ┌───┐      ░  ░       ░       ░       ░  ░ ┌───┐ ░ ┌───┐ ░       ░      »\n",
              "q5_0: ┤ H ├──────░──░───────░───■───░───────░──░─┤ H ├─░─┤ X ├─░───────░───■──»\n",
              "      ├───┤      ░  ░ ┌───┐ ░   │   ░ ┌───┐ ░  ░ ├───┤ ░ ├───┤ ░       ░   │  »\n",
              "q5_1: ┤ H ├──────░──░─┤ X ├─░───■───░─┤ X ├─░──░─┤ H ├─░─┤ X ├─░───────░───■──»\n",
              "      ├───┤      ░  ░ └───┘ ░   │   ░ └───┘ ░  ░ ├───┤ ░ ├───┤ ░       ░   │  »\n",
              "q5_2: ┤ H ├──────░──░───────░───■───░───────░──░─┤ H ├─░─┤ X ├─░───────░───■──»\n",
              "      ├───┤      ░  ░ ┌───┐ ░   │   ░ ┌───┐ ░  ░ ├───┤ ░ ├───┤ ░ ┌───┐ ░ ┌─┴─┐»\n",
              "q5_3: ┤ H ├──────░──░─┤ X ├─░───■───░─┤ X ├─░──░─┤ H ├─░─┤ X ├─░─┤ H ├─░─┤ X ├»\n",
              "      ├───┤┌───┐ ░  ░ └───┘ ░ ┌─┴─┐ ░ └───┘ ░  ░ └───┘ ░ └───┘ ░ └───┘ ░ └───┘»\n",
              "q5_4: ┤ X ├┤ H ├─░──░───────░─┤ X ├─░───────░──░───────░───────░───────░──────»\n",
              "      └───┘└───┘ ░  ░       ░ └───┘ ░       ░  ░       ░       ░       ░      »\n",
              "q5_5: ───────────░──░───────░───────░───────░──░───────░───────░───────░──────»\n",
              "                 ░  ░       ░       ░       ░  ░       ░       ░       ░      »\n",
              "q5_6: ───────────░──░───────░───────░───────░──░───────░───────░───────░──────»\n",
              "                 ░  ░       ░       ░       ░  ░       ░       ░       ░      »\n",
              "c1: 4/════════════════════════════════════════════════════════════════════════»\n",
              "                                                                              »\n",
              "«       ░       ░ ┌───┐ ░ ┌───┐ ░ ┌─┐         \n",
              "«q5_0: ─░───────░─┤ X ├─░─┤ H ├─░─┤M├─────────\n",
              "«       ░       ░ ├───┤ ░ ├───┤ ░ └╥┘┌─┐      \n",
              "«q5_1: ─░───────░─┤ X ├─░─┤ H ├─░──╫─┤M├──────\n",
              "«       ░       ░ ├───┤ ░ ├───┤ ░  ║ └╥┘┌─┐   \n",
              "«q5_2: ─░───────░─┤ X ├─░─┤ H ├─░──╫──╫─┤M├───\n",
              "«       ░ ┌───┐ ░ ├───┤ ░ ├───┤ ░  ║  ║ └╥┘┌─┐\n",
              "«q5_3: ─░─┤ H ├─░─┤ X ├─░─┤ H ├─░──╫──╫──╫─┤M├\n",
              "«       ░ └───┘ ░ └───┘ ░ └───┘ ░  ║  ║  ║ └╥┘\n",
              "«q5_4: ─░───────░───────░───────░──╫──╫──╫──╫─\n",
              "«       ░       ░       ░       ░  ║  ║  ║  ║ \n",
              "«q5_5: ─░───────░───────░───────░──╫──╫──╫──╫─\n",
              "«       ░       ░       ░       ░  ║  ║  ║  ║ \n",
              "«q5_6: ─░───────░───────░───────░──╫──╫──╫──╫─\n",
              "«       ░       ░       ░       ░  ║  ║  ║  ║ \n",
              "«c1: 4/════════════════════════════╩══╩══╩══╩═\n",
              "«                                  0  1  2  3 </pre>"
            ],
            "text/plain": [
              "      ┌───┐      ░  ░       ░       ░       ░  ░ ┌───┐ ░ ┌───┐ ░       ░      »\n",
              "q5_0: ┤ H ├──────░──░───────░───■───░───────░──░─┤ H ├─░─┤ X ├─░───────░───■──»\n",
              "      ├───┤      ░  ░ ┌───┐ ░   │   ░ ┌───┐ ░  ░ ├───┤ ░ ├───┤ ░       ░   │  »\n",
              "q5_1: ┤ H ├──────░──░─┤ X ├─░───■───░─┤ X ├─░──░─┤ H ├─░─┤ X ├─░───────░───■──»\n",
              "      ├───┤      ░  ░ └───┘ ░   │   ░ └───┘ ░  ░ ├───┤ ░ ├───┤ ░       ░   │  »\n",
              "q5_2: ┤ H ├──────░──░───────░───■───░───────░──░─┤ H ├─░─┤ X ├─░───────░───■──»\n",
              "      ├───┤      ░  ░ ┌───┐ ░   │   ░ ┌───┐ ░  ░ ├───┤ ░ ├───┤ ░ ┌───┐ ░ ┌─┴─┐»\n",
              "q5_3: ┤ H ├──────░──░─┤ X ├─░───■───░─┤ X ├─░──░─┤ H ├─░─┤ X ├─░─┤ H ├─░─┤ X ├»\n",
              "      ├───┤┌───┐ ░  ░ └───┘ ░ ┌─┴─┐ ░ └───┘ ░  ░ └───┘ ░ └───┘ ░ └───┘ ░ └───┘»\n",
              "q5_4: ┤ X ├┤ H ├─░──░───────░─┤ X ├─░───────░──░───────░───────░───────░──────»\n",
              "      └───┘└───┘ ░  ░       ░ └───┘ ░       ░  ░       ░       ░       ░      »\n",
              "q5_5: ───────────░──░───────░───────░───────░──░───────░───────░───────░──────»\n",
              "                 ░  ░       ░       ░       ░  ░       ░       ░       ░      »\n",
              "q5_6: ───────────░──░───────░───────░───────░──░───────░───────░───────░──────»\n",
              "                 ░  ░       ░       ░       ░  ░       ░       ░       ░      »\n",
              "c1: 4/════════════════════════════════════════════════════════════════════════»\n",
              "                                                                              »\n",
              "«       ░       ░ ┌───┐ ░ ┌───┐ ░ ┌─┐         \n",
              "«q5_0: ─░───────░─┤ X ├─░─┤ H ├─░─┤M├─────────\n",
              "«       ░       ░ ├───┤ ░ ├───┤ ░ └╥┘┌─┐      \n",
              "«q5_1: ─░───────░─┤ X ├─░─┤ H ├─░──╫─┤M├──────\n",
              "«       ░       ░ ├───┤ ░ ├───┤ ░  ║ └╥┘┌─┐   \n",
              "«q5_2: ─░───────░─┤ X ├─░─┤ H ├─░──╫──╫─┤M├───\n",
              "«       ░ ┌───┐ ░ ├───┤ ░ ├───┤ ░  ║  ║ └╥┘┌─┐\n",
              "«q5_3: ─░─┤ H ├─░─┤ X ├─░─┤ H ├─░──╫──╫──╫─┤M├\n",
              "«       ░ └───┘ ░ └───┘ ░ └───┘ ░  ║  ║  ║ └╥┘\n",
              "«q5_4: ─░───────░───────░───────░──╫──╫──╫──╫─\n",
              "«       ░       ░       ░       ░  ║  ║  ║  ║ \n",
              "«q5_5: ─░───────░───────░───────░──╫──╫──╫──╫─\n",
              "«       ░       ░       ░       ░  ║  ║  ║  ║ \n",
              "«q5_6: ─░───────░───────░───────░──╫──╫──╫──╫─\n",
              "«       ░       ░       ░       ░  ║  ║  ║  ║ \n",
              "«c1: 4/════════════════════════════╩══╩══╩══╩═\n",
              "«                                  0  1  2  3 "
            ]
          },
          "metadata": {
            "tags": []
          },
          "execution_count": 24
        }
      ]
    },
    {
      "cell_type": "markdown",
      "metadata": {
        "id": "MpJlRBdqQls0"
      },
      "source": [
        "In case you would like to learn more about how the mct() gate, i.e, the multiple controlled toffoli gate is decomposed you can check out section this paper"
      ]
    },
    {
      "cell_type": "markdown",
      "metadata": {
        "id": "ozeP4K8hQpez"
      },
      "source": [
        "Checking our results after running it on a simulator\n",
        "Note that we have not yet used a real quantum computer as they as noisy. We could however do so by changing our provider from 'ibmq_qasm_simulator' to the hardware backend you like."
      ]
    },
    {
      "cell_type": "code",
      "metadata": {
        "colab": {
          "base_uri": "https://localhost:8080/"
        },
        "id": "9zrmHhLGQjKo",
        "outputId": "a8718088-a4e9-4544-8d35-69870e7b7eb4"
      },
      "source": [
        "# running and getting results \n",
        "\n",
        "backend = Aer.get_backend('qasm_simulator')\n",
        "job = execute(qc, backend, shots=1000)\n",
        "# backend = provider.get_backend('ibmq_qasm_simulator')\n",
        "# job = execute(qc, backend=backend, shots=8000, seed_simulator=12345, backend_options={\"fusion_enable\":True})\n",
        "result = job.result()\n",
        "count = result.get_counts()\n",
        "print(count)"
      ],
      "execution_count": 25,
      "outputs": [
        {
          "output_type": "stream",
          "text": [
            "{'1110': 31, '1000': 31, '0010': 29, '1011': 35, '0100': 39, '0110': 36, '1101': 37, '0011': 30, '0000': 43, '0111': 38, '1100': 35, '0101': 480, '0001': 39, '1001': 37, '1010': 33, '1111': 27}\n"
          ],
          "name": "stdout"
        }
      ]
    },
    {
      "cell_type": "code",
      "metadata": {
        "id": "1wgyYa64Qtf-"
      },
      "source": [
        "# the code snippet below can be used to retreive your job in case your jupyter notebook loses connection with IBMQ servers before completion of the job\n",
        "\n",
        "# backend = provider.get_backend('ibmq_qasm_simulator')\n",
        "# job = backend.retrieve_job('enter your job id here. it can be found in your IBM Q Experience dashboard')\n",
        "# counts = job.result().get_counts()\n",
        "# print(counts)"
      ],
      "execution_count": 26,
      "outputs": []
    },
    {
      "cell_type": "code",
      "metadata": {
        "colab": {
          "base_uri": "https://localhost:8080/",
          "height": 348
        },
        "id": "hReO7hoCQ0JN",
        "outputId": "a35d51c1-1bbd-4fed-a602-3778faa095a4"
      },
      "source": [
        "plot_histogram(count)\n",
        "\n",
        "# the answer may seem inverted, i.e, 0101 is actually state 1010. that's just the notation used by qiskit."
      ],
      "execution_count": 27,
      "outputs": [
        {
          "output_type": "execute_result",
          "data": {
            "image/png": "[encoded data removed]",
            "text/plain": [
              "<Figure size 504x360 with 1 Axes>"
            ]
          },
          "metadata": {
            "tags": []
          },
          "execution_count": 27
        }
      ]
    },
    {
      "cell_type": "markdown",
      "metadata": {
        "id": "aEwY91TJQ3D_"
      },
      "source": [
        "We can see that the entry 1010 has a higher probability of appearing as compared to all the other entries. Note that we have only done the grover method once and yet got a decent answer. I encourage you to try and iterate this method multiple times to see the increase or decrease in probability. For a larger qubit number we may have to do this multiple times to get a decent probability."
      ]
    },
    {
      "cell_type": "markdown",
      "metadata": {
        "id": "XDfB8zxcQ8P2"
      },
      "source": [
        "However, if you cross a certain number of iterations the amplitude of the expected states starts to come down again. This is depicted in the link here through this diagram for 2 and 10 qubits. Thus, the number of iterations 𝑁⎯⎯⎯⎯√ is usually a good number to stick to in the case of a single search item. If you are searching for \"m\" items then the number of iterations you'll have to do decreases to √(N/m)"
      ]
    }
  ]
}